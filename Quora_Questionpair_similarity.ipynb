{
 "cells": [
  {
   "cell_type": "markdown",
   "metadata": {
    "colab_type": "text",
    "id": "58phiLQksKKp"
   },
   "source": [
    "## Importing libraries"
   ]
  },
  {
   "cell_type": "code",
   "execution_count": 1,
   "metadata": {
    "colab": {},
    "colab_type": "code",
    "id": "-3IbomL8dMTi"
   },
   "outputs": [],
   "source": [
    "import pandas as pd\n",
    "import matplotlib.pyplot as plt\n",
    "import re\n",
    "import time\n",
    "import warnings\n",
    "import numpy as np\n",
    "from nltk.corpus import stopwords\n",
    "from sklearn.preprocessing import normalize\n",
    "from sklearn.feature_extraction.text import CountVectorizer\n",
    "from sklearn.feature_extraction.text import TfidfVectorizer\n",
    "warnings.filterwarnings(\"ignore\")\n",
    "import sys\n",
    "import os \n",
    "import pandas as pd\n",
    "import numpy as np\n",
    "from tqdm import tqdm\n",
    "\n",
    "# exctract word2vec vectors\n",
    "# https://github.com/explosion/spaCy/issues/1721\n",
    "# http://landinghub.visualstudio.com/visual-cpp-build-tools\n",
    "import spacy"
   ]
  },
  {
   "cell_type": "code",
   "execution_count": 2,
   "metadata": {
    "colab": {},
    "colab_type": "code",
    "id": "6VXPfRp-tARR"
   },
   "outputs": [],
   "source": [
    "import sqlite3\n",
    "from sqlalchemy import create_engine # database connection\n",
    "import csv\n",
    "import datetime as dt\n",
    "from sklearn.decomposition import TruncatedSVD\n",
    "from sklearn.preprocessing import normalize\n",
    "from sklearn.feature_extraction.text import CountVectorizer\n",
    "from sklearn.manifold import TSNE\n",
    "import seaborn as sns\n",
    "from sklearn.neighbors import KNeighborsClassifier\n",
    "from sklearn.metrics import confusion_matrix\n",
    "from sklearn.metrics.classification import accuracy_score, log_loss\n",
    "from sklearn.feature_extraction.text import TfidfVectorizer\n",
    "from collections import Counter\n",
    "from scipy.sparse import hstack\n",
    "from sklearn.multiclass import OneVsRestClassifier\n",
    "from sklearn.svm import SVC\n",
    "from sklearn.model_selection import StratifiedKFold \n",
    "from collections import Counter, defaultdict\n",
    "from sklearn.calibration import CalibratedClassifierCV\n",
    "from sklearn.naive_bayes import MultinomialNB\n",
    "from sklearn.naive_bayes import GaussianNB\n",
    "from sklearn.model_selection import train_test_split\n",
    "from sklearn.model_selection import GridSearchCV\n",
    "import math\n",
    "from sklearn.metrics import normalized_mutual_info_score\n",
    "from sklearn.ensemble import RandomForestClassifier\n",
    "from scipy.stats import randint as sp_randint\n",
    "import xgboost as xgb\n",
    "\n",
    "import os\n",
    "from sklearn.model_selection import cross_val_score\n",
    "from sklearn.linear_model import SGDClassifier\n",
    "from mlxtend.classifier import StackingClassifier\n",
    "\n",
    "from sklearn import model_selection\n",
    "from sklearn.linear_model import LogisticRegression\n",
    "from sklearn.metrics import precision_recall_curve, auc, roc_curve"
   ]
  },
  {
   "cell_type": "markdown",
   "metadata": {
    "colab_type": "text",
    "id": "YV0lm_dnsR0b"
   },
   "source": [
    "## Reading data"
   ]
  },
  {
   "cell_type": "code",
   "execution_count": 3,
   "metadata": {
    "colab": {},
    "colab_type": "code",
    "collapsed": true,
    "id": "CDyWmxSIH2KR"
   },
   "outputs": [
    {
     "ename": "ModuleNotFoundError",
     "evalue": "No module named 'google.colab'",
     "output_type": "error",
     "traceback": [
      "\u001b[0;31m---------------------------------------------------------------------------\u001b[0m",
      "\u001b[0;31mModuleNotFoundError\u001b[0m                       Traceback (most recent call last)",
      "\u001b[0;32m<ipython-input-3-263d5ef5c26d>\u001b[0m in \u001b[0;36m<module>\u001b[0;34m\u001b[0m\n\u001b[1;32m      3\u001b[0m \u001b[0;32mfrom\u001b[0m \u001b[0mpydrive\u001b[0m\u001b[0;34m.\u001b[0m\u001b[0mauth\u001b[0m \u001b[0;32mimport\u001b[0m \u001b[0mGoogleAuth\u001b[0m\u001b[0;34m\u001b[0m\u001b[0;34m\u001b[0m\u001b[0m\n\u001b[1;32m      4\u001b[0m \u001b[0;32mfrom\u001b[0m \u001b[0mpydrive\u001b[0m\u001b[0;34m.\u001b[0m\u001b[0mdrive\u001b[0m \u001b[0;32mimport\u001b[0m \u001b[0mGoogleDrive\u001b[0m\u001b[0;34m\u001b[0m\u001b[0;34m\u001b[0m\u001b[0m\n\u001b[0;32m----> 5\u001b[0;31m \u001b[0;32mfrom\u001b[0m \u001b[0mgoogle\u001b[0m\u001b[0;34m.\u001b[0m\u001b[0mcolab\u001b[0m \u001b[0;32mimport\u001b[0m \u001b[0mauth\u001b[0m\u001b[0;34m\u001b[0m\u001b[0;34m\u001b[0m\u001b[0m\n\u001b[0m\u001b[1;32m      6\u001b[0m \u001b[0;32mfrom\u001b[0m \u001b[0moauth2client\u001b[0m\u001b[0;34m.\u001b[0m\u001b[0mclient\u001b[0m \u001b[0;32mimport\u001b[0m \u001b[0mGoogleCredentials\u001b[0m\u001b[0;34m\u001b[0m\u001b[0;34m\u001b[0m\u001b[0m\n",
      "\u001b[0;31mModuleNotFoundError\u001b[0m: No module named 'google.colab'"
     ]
    }
   ],
   "source": [
    "\n",
    "# Code to read csv file into colaboratory:\n",
    "!pip install -U -q PyDrive\n",
    "from pydrive.auth import GoogleAuth\n",
    "from pydrive.drive import GoogleDrive\n",
    "from google.colab import auth\n",
    "from oauth2client.client import GoogleCredentials"
   ]
  },
  {
   "cell_type": "code",
   "execution_count": null,
   "metadata": {
    "colab": {},
    "colab_type": "code",
    "id": "MLLpBLFaH2KU"
   },
   "outputs": [],
   "source": [
    "\n",
    "#STEP-2: Autheticate E-Mail ID\n",
    "\n",
    "auth.authenticate_user()\n",
    "gauth = GoogleAuth()\n",
    "gauth.credentials = GoogleCredentials.get_application_default()\n",
    "drive = GoogleDrive(gauth)\n"
   ]
  },
  {
   "cell_type": "code",
   "execution_count": null,
   "metadata": {
    "colab": {},
    "colab_type": "code",
    "id": "kp6hthlerkFs"
   },
   "outputs": [],
   "source": [
    "#STEP-3: Get File from Drive using file-ID\n",
    "\n",
    "#2.1 Get the file\n",
    "downloaded = drive.CreateFile({'id':'10QDGTSI5PEV9e7CTpfzsXRpUwRIsJA-J'}) # replace the id with id of file you want to access\n",
    "downloaded.GetContentFile('train.csv') "
   ]
  },
  {
   "cell_type": "code",
   "execution_count": null,
   "metadata": {
    "colab": {},
    "colab_type": "code",
    "id": "vcOWIY32H2Lw"
   },
   "outputs": [],
   "source": [
    "#STEP-3: Get File from Drive using file-ID\n",
    "\n",
    "#2.1 Get the file\n",
    "downloaded = drive.CreateFile({'id':'1gTfCTD3fz-3NJnfYLm59nZFN3WC3fzfD'}) # replace the id with id of file you want to access\n",
    "downloaded.GetContentFile('df_fe_without_preprocessing_train.csv')"
   ]
  },
  {
   "cell_type": "code",
   "execution_count": null,
   "metadata": {
    "colab": {},
    "colab_type": "code",
    "id": "GOps43crJewI"
   },
   "outputs": [],
   "source": [
    "#STEP-3: Get File from Drive using file-ID\n",
    "\n",
    "#2.1 Get the file\n",
    "downloaded = drive.CreateFile({'id':'1JncN1Fyt-ND_yZXOzqEfcRsYMTKqtu7Q'}) # replace the id with id of file you want to access\n",
    "downloaded.GetContentFile('nlp_features_train.csv')"
   ]
  },
  {
   "cell_type": "code",
   "execution_count": 4,
   "metadata": {
    "colab": {},
    "colab_type": "code",
    "id": "yzBW-tyGqbh1"
   },
   "outputs": [],
   "source": [
    "#getting required features(columns) from .csv files\n",
    "all_nlp_features = pd.read_csv(\"nlp_features_train.csv\",encoding='latin-1')#contains advanced features\n",
    "all_basic_features = pd.read_csv(\"df_fe_without_preprocessing_train.csv\",encoding='latin-1')#conatins basic features\n",
    "only_nlp_features = all_nlp_features.drop(['qid1','qid2','question1','question2','is_duplicate'],axis=1)\n",
    "only_basic_features = all_basic_features.drop(['qid1','qid2','question1','question2','is_duplicate'],axis=1)\n",
    "simple_features = all_nlp_features[['id','question1','question2']]\n",
    "actual_y = all_nlp_features.is_duplicate"
   ]
  },
  {
   "cell_type": "code",
   "execution_count": 5,
   "metadata": {
    "colab": {
     "base_uri": "https://localhost:8080/",
     "height": 224
    },
    "colab_type": "code",
    "id": "wXLosR_Cqbh6",
    "outputId": "e3d711fc-7135-4eeb-ddb5-c38a7242197d"
   },
   "outputs": [
    {
     "data": {
      "text/html": [
       "<div>\n",
       "<style scoped>\n",
       "    .dataframe tbody tr th:only-of-type {\n",
       "        vertical-align: middle;\n",
       "    }\n",
       "\n",
       "    .dataframe tbody tr th {\n",
       "        vertical-align: top;\n",
       "    }\n",
       "\n",
       "    .dataframe thead th {\n",
       "        text-align: right;\n",
       "    }\n",
       "</style>\n",
       "<table border=\"1\" class=\"dataframe\">\n",
       "  <thead>\n",
       "    <tr style=\"text-align: right;\">\n",
       "      <th></th>\n",
       "      <th>id</th>\n",
       "      <th>cwc_min</th>\n",
       "      <th>cwc_max</th>\n",
       "      <th>csc_min</th>\n",
       "      <th>csc_max</th>\n",
       "      <th>ctc_min</th>\n",
       "      <th>ctc_max</th>\n",
       "      <th>last_word_eq</th>\n",
       "      <th>first_word_eq</th>\n",
       "      <th>abs_len_diff</th>\n",
       "      <th>mean_len</th>\n",
       "      <th>token_set_ratio</th>\n",
       "      <th>token_sort_ratio</th>\n",
       "      <th>fuzz_ratio</th>\n",
       "      <th>fuzz_partial_ratio</th>\n",
       "      <th>longest_substr_ratio</th>\n",
       "    </tr>\n",
       "  </thead>\n",
       "  <tbody>\n",
       "    <tr>\n",
       "      <th>0</th>\n",
       "      <td>0</td>\n",
       "      <td>0.999980</td>\n",
       "      <td>0.833319</td>\n",
       "      <td>0.999983</td>\n",
       "      <td>0.999983</td>\n",
       "      <td>0.916659</td>\n",
       "      <td>0.785709</td>\n",
       "      <td>0.0</td>\n",
       "      <td>1.0</td>\n",
       "      <td>2.0</td>\n",
       "      <td>13.0</td>\n",
       "      <td>100</td>\n",
       "      <td>93</td>\n",
       "      <td>93</td>\n",
       "      <td>100</td>\n",
       "      <td>0.982759</td>\n",
       "    </tr>\n",
       "    <tr>\n",
       "      <th>1</th>\n",
       "      <td>1</td>\n",
       "      <td>0.799984</td>\n",
       "      <td>0.399996</td>\n",
       "      <td>0.749981</td>\n",
       "      <td>0.599988</td>\n",
       "      <td>0.699993</td>\n",
       "      <td>0.466664</td>\n",
       "      <td>0.0</td>\n",
       "      <td>1.0</td>\n",
       "      <td>5.0</td>\n",
       "      <td>12.5</td>\n",
       "      <td>86</td>\n",
       "      <td>63</td>\n",
       "      <td>66</td>\n",
       "      <td>75</td>\n",
       "      <td>0.596154</td>\n",
       "    </tr>\n",
       "    <tr>\n",
       "      <th>2</th>\n",
       "      <td>2</td>\n",
       "      <td>0.399992</td>\n",
       "      <td>0.333328</td>\n",
       "      <td>0.399992</td>\n",
       "      <td>0.249997</td>\n",
       "      <td>0.399996</td>\n",
       "      <td>0.285712</td>\n",
       "      <td>0.0</td>\n",
       "      <td>1.0</td>\n",
       "      <td>4.0</td>\n",
       "      <td>12.0</td>\n",
       "      <td>66</td>\n",
       "      <td>66</td>\n",
       "      <td>54</td>\n",
       "      <td>54</td>\n",
       "      <td>0.166667</td>\n",
       "    </tr>\n",
       "    <tr>\n",
       "      <th>3</th>\n",
       "      <td>3</td>\n",
       "      <td>0.000000</td>\n",
       "      <td>0.000000</td>\n",
       "      <td>0.000000</td>\n",
       "      <td>0.000000</td>\n",
       "      <td>0.000000</td>\n",
       "      <td>0.000000</td>\n",
       "      <td>0.0</td>\n",
       "      <td>0.0</td>\n",
       "      <td>2.0</td>\n",
       "      <td>12.0</td>\n",
       "      <td>36</td>\n",
       "      <td>36</td>\n",
       "      <td>35</td>\n",
       "      <td>40</td>\n",
       "      <td>0.039216</td>\n",
       "    </tr>\n",
       "    <tr>\n",
       "      <th>4</th>\n",
       "      <td>4</td>\n",
       "      <td>0.399992</td>\n",
       "      <td>0.199998</td>\n",
       "      <td>0.999950</td>\n",
       "      <td>0.666644</td>\n",
       "      <td>0.571420</td>\n",
       "      <td>0.307690</td>\n",
       "      <td>0.0</td>\n",
       "      <td>1.0</td>\n",
       "      <td>6.0</td>\n",
       "      <td>10.0</td>\n",
       "      <td>67</td>\n",
       "      <td>47</td>\n",
       "      <td>46</td>\n",
       "      <td>56</td>\n",
       "      <td>0.175000</td>\n",
       "    </tr>\n",
       "  </tbody>\n",
       "</table>\n",
       "</div>"
      ],
      "text/plain": [
       "   id   cwc_min   cwc_max   csc_min   csc_max   ctc_min   ctc_max  \\\n",
       "0   0  0.999980  0.833319  0.999983  0.999983  0.916659  0.785709   \n",
       "1   1  0.799984  0.399996  0.749981  0.599988  0.699993  0.466664   \n",
       "2   2  0.399992  0.333328  0.399992  0.249997  0.399996  0.285712   \n",
       "3   3  0.000000  0.000000  0.000000  0.000000  0.000000  0.000000   \n",
       "4   4  0.399992  0.199998  0.999950  0.666644  0.571420  0.307690   \n",
       "\n",
       "   last_word_eq  first_word_eq  abs_len_diff  mean_len  token_set_ratio  \\\n",
       "0           0.0            1.0           2.0      13.0              100   \n",
       "1           0.0            1.0           5.0      12.5               86   \n",
       "2           0.0            1.0           4.0      12.0               66   \n",
       "3           0.0            0.0           2.0      12.0               36   \n",
       "4           0.0            1.0           6.0      10.0               67   \n",
       "\n",
       "   token_sort_ratio  fuzz_ratio  fuzz_partial_ratio  longest_substr_ratio  \n",
       "0                93          93                 100              0.982759  \n",
       "1                63          66                  75              0.596154  \n",
       "2                66          54                  54              0.166667  \n",
       "3                36          35                  40              0.039216  \n",
       "4                47          46                  56              0.175000  "
      ]
     },
     "execution_count": 5,
     "metadata": {},
     "output_type": "execute_result"
    }
   ],
   "source": [
    "only_nlp_features.head()"
   ]
  },
  {
   "cell_type": "code",
   "execution_count": 6,
   "metadata": {
    "colab": {
     "base_uri": "https://localhost:8080/",
     "height": 241
    },
    "colab_type": "code",
    "id": "10C0-l0sqbh-",
    "outputId": "b4fe6932-cdc1-4368-a763-15e3d7b3b23c"
   },
   "outputs": [
    {
     "data": {
      "text/html": [
       "<div>\n",
       "<style scoped>\n",
       "    .dataframe tbody tr th:only-of-type {\n",
       "        vertical-align: middle;\n",
       "    }\n",
       "\n",
       "    .dataframe tbody tr th {\n",
       "        vertical-align: top;\n",
       "    }\n",
       "\n",
       "    .dataframe thead th {\n",
       "        text-align: right;\n",
       "    }\n",
       "</style>\n",
       "<table border=\"1\" class=\"dataframe\">\n",
       "  <thead>\n",
       "    <tr style=\"text-align: right;\">\n",
       "      <th></th>\n",
       "      <th>id</th>\n",
       "      <th>freq_qid1</th>\n",
       "      <th>freq_qid2</th>\n",
       "      <th>q1len</th>\n",
       "      <th>q2len</th>\n",
       "      <th>q1_n_words</th>\n",
       "      <th>q2_n_words</th>\n",
       "      <th>word_Common</th>\n",
       "      <th>word_Total</th>\n",
       "      <th>word_share</th>\n",
       "      <th>freq_q1+q2</th>\n",
       "      <th>freq_q1-q2</th>\n",
       "    </tr>\n",
       "  </thead>\n",
       "  <tbody>\n",
       "    <tr>\n",
       "      <th>0</th>\n",
       "      <td>0</td>\n",
       "      <td>1</td>\n",
       "      <td>1</td>\n",
       "      <td>66</td>\n",
       "      <td>57</td>\n",
       "      <td>14</td>\n",
       "      <td>12</td>\n",
       "      <td>10.0</td>\n",
       "      <td>23.0</td>\n",
       "      <td>0.434783</td>\n",
       "      <td>2</td>\n",
       "      <td>0</td>\n",
       "    </tr>\n",
       "    <tr>\n",
       "      <th>1</th>\n",
       "      <td>1</td>\n",
       "      <td>4</td>\n",
       "      <td>1</td>\n",
       "      <td>51</td>\n",
       "      <td>88</td>\n",
       "      <td>8</td>\n",
       "      <td>13</td>\n",
       "      <td>4.0</td>\n",
       "      <td>20.0</td>\n",
       "      <td>0.200000</td>\n",
       "      <td>5</td>\n",
       "      <td>3</td>\n",
       "    </tr>\n",
       "    <tr>\n",
       "      <th>2</th>\n",
       "      <td>2</td>\n",
       "      <td>1</td>\n",
       "      <td>1</td>\n",
       "      <td>73</td>\n",
       "      <td>59</td>\n",
       "      <td>14</td>\n",
       "      <td>10</td>\n",
       "      <td>4.0</td>\n",
       "      <td>24.0</td>\n",
       "      <td>0.166667</td>\n",
       "      <td>2</td>\n",
       "      <td>0</td>\n",
       "    </tr>\n",
       "    <tr>\n",
       "      <th>3</th>\n",
       "      <td>3</td>\n",
       "      <td>1</td>\n",
       "      <td>1</td>\n",
       "      <td>50</td>\n",
       "      <td>65</td>\n",
       "      <td>11</td>\n",
       "      <td>9</td>\n",
       "      <td>0.0</td>\n",
       "      <td>19.0</td>\n",
       "      <td>0.000000</td>\n",
       "      <td>2</td>\n",
       "      <td>0</td>\n",
       "    </tr>\n",
       "    <tr>\n",
       "      <th>4</th>\n",
       "      <td>4</td>\n",
       "      <td>3</td>\n",
       "      <td>1</td>\n",
       "      <td>76</td>\n",
       "      <td>39</td>\n",
       "      <td>13</td>\n",
       "      <td>7</td>\n",
       "      <td>2.0</td>\n",
       "      <td>20.0</td>\n",
       "      <td>0.100000</td>\n",
       "      <td>4</td>\n",
       "      <td>2</td>\n",
       "    </tr>\n",
       "  </tbody>\n",
       "</table>\n",
       "</div>"
      ],
      "text/plain": [
       "   id  freq_qid1  freq_qid2  q1len  q2len  q1_n_words  q2_n_words  \\\n",
       "0   0          1          1     66     57          14          12   \n",
       "1   1          4          1     51     88           8          13   \n",
       "2   2          1          1     73     59          14          10   \n",
       "3   3          1          1     50     65          11           9   \n",
       "4   4          3          1     76     39          13           7   \n",
       "\n",
       "   word_Common  word_Total  word_share  freq_q1+q2  freq_q1-q2  \n",
       "0         10.0        23.0    0.434783           2           0  \n",
       "1          4.0        20.0    0.200000           5           3  \n",
       "2          4.0        24.0    0.166667           2           0  \n",
       "3          0.0        19.0    0.000000           2           0  \n",
       "4          2.0        20.0    0.100000           4           2  "
      ]
     },
     "execution_count": 6,
     "metadata": {},
     "output_type": "execute_result"
    }
   ],
   "source": [
    "only_basic_features.head()"
   ]
  },
  {
   "cell_type": "code",
   "execution_count": 7,
   "metadata": {
    "colab": {
     "base_uri": "https://localhost:8080/",
     "height": 204
    },
    "colab_type": "code",
    "id": "iCFU97EUqbiC",
    "outputId": "9be2755b-1114-482f-96df-9ba236358f81"
   },
   "outputs": [
    {
     "data": {
      "text/html": [
       "<div>\n",
       "<style scoped>\n",
       "    .dataframe tbody tr th:only-of-type {\n",
       "        vertical-align: middle;\n",
       "    }\n",
       "\n",
       "    .dataframe tbody tr th {\n",
       "        vertical-align: top;\n",
       "    }\n",
       "\n",
       "    .dataframe thead th {\n",
       "        text-align: right;\n",
       "    }\n",
       "</style>\n",
       "<table border=\"1\" class=\"dataframe\">\n",
       "  <thead>\n",
       "    <tr style=\"text-align: right;\">\n",
       "      <th></th>\n",
       "      <th>id</th>\n",
       "      <th>question1</th>\n",
       "      <th>question2</th>\n",
       "    </tr>\n",
       "  </thead>\n",
       "  <tbody>\n",
       "    <tr>\n",
       "      <th>0</th>\n",
       "      <td>0</td>\n",
       "      <td>what is the step by step guide to invest in sh...</td>\n",
       "      <td>what is the step by step guide to invest in sh...</td>\n",
       "    </tr>\n",
       "    <tr>\n",
       "      <th>1</th>\n",
       "      <td>1</td>\n",
       "      <td>what is the story of kohinoor  koh i noor  dia...</td>\n",
       "      <td>what would happen if the indian government sto...</td>\n",
       "    </tr>\n",
       "    <tr>\n",
       "      <th>2</th>\n",
       "      <td>2</td>\n",
       "      <td>how can i increase the speed of my internet co...</td>\n",
       "      <td>how can internet speed be increased by hacking...</td>\n",
       "    </tr>\n",
       "    <tr>\n",
       "      <th>3</th>\n",
       "      <td>3</td>\n",
       "      <td>why am i mentally very lonely  how can i solve...</td>\n",
       "      <td>find the remainder when  math 23  24   math  i...</td>\n",
       "    </tr>\n",
       "    <tr>\n",
       "      <th>4</th>\n",
       "      <td>4</td>\n",
       "      <td>which one dissolve in water quikly sugar  salt...</td>\n",
       "      <td>which fish would survive in salt water</td>\n",
       "    </tr>\n",
       "  </tbody>\n",
       "</table>\n",
       "</div>"
      ],
      "text/plain": [
       "   id                                          question1  \\\n",
       "0   0  what is the step by step guide to invest in sh...   \n",
       "1   1  what is the story of kohinoor  koh i noor  dia...   \n",
       "2   2  how can i increase the speed of my internet co...   \n",
       "3   3  why am i mentally very lonely  how can i solve...   \n",
       "4   4  which one dissolve in water quikly sugar  salt...   \n",
       "\n",
       "                                           question2  \n",
       "0  what is the step by step guide to invest in sh...  \n",
       "1  what would happen if the indian government sto...  \n",
       "2  how can internet speed be increased by hacking...  \n",
       "3  find the remainder when  math 23  24   math  i...  \n",
       "4            which fish would survive in salt water   "
      ]
     },
     "execution_count": 7,
     "metadata": {},
     "output_type": "execute_result"
    }
   ],
   "source": [
    "simple_features.head()"
   ]
  },
  {
   "cell_type": "code",
   "execution_count": 8,
   "metadata": {
    "colab": {
     "base_uri": "https://localhost:8080/",
     "height": 53
    },
    "colab_type": "code",
    "id": "OlvZnKH9iUv-",
    "outputId": "d9358f53-866f-4472-bd10-fbf8b8bff304"
   },
   "outputs": [
    {
     "name": "stdout",
     "output_type": "stream",
     "text": [
      "Number of features in nlp dataframe : 21\n",
      "Number of features in preprocessed dataframe : 17\n"
     ]
    }
   ],
   "source": [
    "print(\"Number of features in nlp dataframe :\", all_nlp_features.shape[1])\n",
    "print(\"Number of features in preprocessed dataframe :\", all_basic_features.shape[1])"
   ]
  },
  {
   "cell_type": "markdown",
   "metadata": {
    "colab_type": "text",
    "id": "4ZSFLtD53QEF"
   },
   "source": [
    "# Preprocessing Data"
   ]
  },
  {
   "cell_type": "code",
   "execution_count": 9,
   "metadata": {
    "colab": {},
    "colab_type": "code",
    "id": "VoZZv5rvqbiK"
   },
   "outputs": [],
   "source": [
    "#https://github.com/krpiyush5/Quora-Question-Pair-Similarity-Problem-/blob/master/final_update_QuoraQuestionPair.ipynb\n",
    "simple_features = simple_features.fillna(' ')\n",
    "new_df = pd.DataFrame()#creating new dataframe with columns question(q1+q2)\n",
    "new_df['questions'] = simple_features.question1 + ' ' + simple_features.question2\n",
    "new_df['id'] = simple_features.id\n",
    "only_basic_features['id']=only_nlp_features['id']\n",
    "new_df['id']=only_nlp_features['id']\n",
    "final_df = only_nlp_features.merge(only_basic_features, on='id',how='left') #merging basic features and advanced features on id\n",
    "X  = final_df.merge(new_df, on='id',how='left')#merging final_df and new_df"
   ]
  },
  {
   "cell_type": "code",
   "execution_count": 10,
   "metadata": {
    "colab": {},
    "colab_type": "code",
    "id": "roozKc1UqbiO"
   },
   "outputs": [],
   "source": [
    "#There is no use of id so remove id from X\n",
    "X=X.drop('id',axis=1)\n",
    "X.columns\n",
    "y=np.array(actual_y)"
   ]
  },
  {
   "cell_type": "code",
   "execution_count": 11,
   "metadata": {
    "colab": {
     "base_uri": "https://localhost:8080/",
     "height": 89
    },
    "colab_type": "code",
    "id": "UyLBHtLfqbiS",
    "outputId": "8cefba88-5cae-4847-d02f-9631326b7326"
   },
   "outputs": [
    {
     "name": "stdout",
     "output_type": "stream",
     "text": [
      "(283003, 27)\n",
      "(283003,)\n",
      "(121287, 27)\n",
      "(121287,)\n"
     ]
    }
   ],
   "source": [
    "#splitting data into train(70%) and test(30%)\n",
    "from sklearn.model_selection import train_test_split\n",
    "X_train,X_test,y_train,y_test=train_test_split(X,y,random_state=3,test_size=0.3)\n",
    "print(X_train.shape)\n",
    "print(y_train.shape)\n",
    "print(X_test.shape)\n",
    "print(y_test.shape)"
   ]
  },
  {
   "cell_type": "code",
   "execution_count": 12,
   "metadata": {
    "colab": {},
    "colab_type": "code",
    "id": "dg7EJNvKqbiW"
   },
   "outputs": [],
   "source": [
    "#seperating questions for tfidf vectorizer\n",
    "X_train_ques=X_train['questions']\n",
    "X_test_ques=X_test['questions']\n",
    "\n",
    "X_train=X_train.drop('questions',axis=1)\n",
    "X_test=X_test.drop('questions',axis=1)"
   ]
  },
  {
   "cell_type": "markdown",
   "metadata": {
    "colab_type": "text",
    "id": "xVIDXy92qbia"
   },
   "source": [
    "## Featurizing text data with tfidf weighted word-vectors "
   ]
  },
  {
   "cell_type": "code",
   "execution_count": 13,
   "metadata": {
    "colab": {},
    "colab_type": "code",
    "id": "jxVpfnHiqbib"
   },
   "outputs": [],
   "source": [
    "#vectorizing questions\n",
    "from sklearn.feature_extraction.text import TfidfVectorizer\n",
    "from sklearn.feature_extraction.text import CountVectorizer\n",
    "\n",
    "tfidf_vec = TfidfVectorizer(lowercase=False )\n",
    "tfidf_vec.fit_transform(X_train_ques)\n",
    "\n",
    "# dict key:word and value:tf-idf score\n",
    "tfidf_word_vec = dict(zip(tfidf_vec.get_feature_names(), tfidf_vec.idf_))"
   ]
  },
  {
   "cell_type": "code",
   "execution_count": 29,
   "metadata": {
    "colab": {
     "base_uri": "https://localhost:8080/",
     "height": 35
    },
    "colab_type": "code",
    "id": "0ZEagWaOqbig",
    "outputId": "d0db8047-8b1d-4a4a-eebb-6f063ea9b254"
   },
   "outputs": [
    {
     "name": "stderr",
     "output_type": "stream",
     "text": [
      "100%|██████████| 283003/283003 [40:48<00:00, 115.58it/s]\n"
     ]
    }
   ],
   "source": [
    "# en_vectors_web_lg, which includes over 1 million unique vectors.\n",
    "#train dataset Avg tf-idf W2V\n",
    "nlp = spacy.load('en_core_web_sm')\n",
    "q_train_vectors = []\n",
    "for question in tqdm(list(X_train_ques)):\n",
    "    doc = nlp(question) \n",
    "    # 384 is the number of dimensions of vectors \n",
    "    mean_qtrain_vec = np.zeros([len(doc), 96])\n",
    "    for word in doc:\n",
    "        # word2vec\n",
    "        vector = word.vector\n",
    "        # fetch df score\n",
    "        try:\n",
    "            idf = tfidf_word_vec[str(word)]\n",
    "        except:\n",
    "            idf = 0\n",
    "        mean_qtrain_vec += vector * idf\n",
    "    mean_qtrain_vec = mean_qtrain_vec.mean(axis=0)#taking average(mean)\n",
    "    q_train_vectors.append(mean_qtrain_vec)"
   ]
  },
  {
   "cell_type": "code",
   "execution_count": 15,
   "metadata": {
    "colab": {},
    "colab_type": "code",
    "id": "aaYWk5P3qbim"
   },
   "outputs": [],
   "source": [
    "#can we save vectors to a file and load them\n",
    "#https://www.pythonforthelab.com/blog/how-to-use-hdf5-files-in-python/\n",
    "import h5py\n",
    "#with h5py.File('q1_vectors.hdf5', 'w') as f:\n",
    "#  dset = f.create_dataset(\"default\", data=q1_vectors)\n",
    "f = h5py.File('q1_vectors.hdf5', 'r')\n",
    "q1 = f['default'][:]\n",
    "f.close()"
   ]
  },
  {
   "cell_type": "code",
   "execution_count": 31,
   "metadata": {
    "colab": {
     "base_uri": "https://localhost:8080/",
     "height": 35
    },
    "colab_type": "code",
    "id": "STdX5P8nqbiq",
    "outputId": "a0266a7f-d6b1-4cfe-81ab-5200e2f62cfc"
   },
   "outputs": [
    {
     "name": "stderr",
     "output_type": "stream",
     "text": [
      "100%|██████████| 121287/121287 [17:02<00:00, 118.65it/s]\n"
     ]
    }
   ],
   "source": [
    "q_test_vectors = []\n",
    "for question in tqdm(list(X_test_ques)):\n",
    "    doc = nlp(question) \n",
    "    # 384 is the number of dimensions of vectors \n",
    "    mean__qtest_vec = np.zeros([len(doc), 96])\n",
    "    for word in doc:\n",
    "        # word2vec\n",
    "        vector = word.vector\n",
    "        # fetch df score\n",
    "        try:\n",
    "            idf = tfidf_word_vec[str(word)]\n",
    "        except:\n",
    "            idf = 0\n",
    "        mean__qtest_vec += vector * idf\n",
    "    mean__qtest_vec = mean__qtest_vec.mean(axis=0)#taking average(mean)\n",
    "    q_test_vectors.append(mean__qtest_vec)"
   ]
  },
  {
   "cell_type": "code",
   "execution_count": 17,
   "metadata": {
    "colab": {},
    "colab_type": "code",
    "id": "l3k8STKXqbit"
   },
   "outputs": [],
   "source": [
    "#https://www.pythonforthelab.com/blog/how-to-use-hdf5-files-in-python/\n",
    "#import h5py\n",
    "#with h5py.File('q_test_vectors.hdf5', 'w') as f:\n",
    "#    dset = f.create_dataset(\"default\", data=q_test_vectors)\n",
    "f = h5py.File('q2_vectors.hdf5', 'r')\n",
    "q2 = f['default'][:]\n",
    "f.close()"
   ]
  },
  {
   "cell_type": "code",
   "execution_count": 18,
   "metadata": {
    "colab": {},
    "colab_type": "code",
    "id": "PTldSvOSqbiz"
   },
   "outputs": [],
   "source": [
    "q_train_df=pd.DataFrame(q1)\n",
    "q_test_df=pd.DataFrame(q2)"
   ]
  },
  {
   "cell_type": "code",
   "execution_count": 19,
   "metadata": {
    "colab": {
     "base_uri": "https://localhost:8080/",
     "height": 53
    },
    "colab_type": "code",
    "id": "Y8I-8M0Hq-gA",
    "outputId": "dc9445ce-d50a-4598-d952-49aa51e9340c"
   },
   "outputs": [
    {
     "name": "stdout",
     "output_type": "stream",
     "text": [
      "(283003, 96)\n"
     ]
    },
    {
     "data": {
      "text/plain": [
       "(121287, 96)"
      ]
     },
     "execution_count": 19,
     "metadata": {},
     "output_type": "execute_result"
    }
   ],
   "source": [
    "print(q_train_df.shape)\n",
    "q_test_df.shape"
   ]
  },
  {
   "cell_type": "code",
   "execution_count": 20,
   "metadata": {
    "colab": {
     "base_uri": "https://localhost:8080/",
     "height": 53
    },
    "colab_type": "code",
    "id": "sHueHBmRqbi4",
    "outputId": "20404281-d43f-41ad-ce42-3ddb0534921f"
   },
   "outputs": [
    {
     "name": "stdout",
     "output_type": "stream",
     "text": [
      "(283003, 122)\n",
      "(121287, 122)\n"
     ]
    }
   ],
   "source": [
    "from scipy.sparse import hstack\n",
    "X_wtfidf_train = hstack((X_train.values,q_train_df))\n",
    "X_wtfidf_test= hstack((X_test.values,q_test_df))\n",
    "print(X_wtfidf_train.shape)\n",
    "print(X_wtfidf_test.shape)"
   ]
  },
  {
   "cell_type": "markdown",
   "metadata": {
    "colab_type": "text",
    "id": "MRP-fAQedMTd"
   },
   "source": [
    "## Featurizing text data with tfidf word-vectors "
   ]
  },
  {
   "cell_type": "code",
   "execution_count": 18,
   "metadata": {
    "colab": {
     "base_uri": "https://localhost:8080/",
     "height": 53
    },
    "colab_type": "code",
    "id": "98Xqtkea1uR7",
    "outputId": "3edba76f-6c7b-4076-f39c-70aa7b3b7f2e"
   },
   "outputs": [
    {
     "name": "stdout",
     "output_type": "stream",
     "text": [
      "(283003, 26)\n",
      "(121287, 26)\n"
     ]
    }
   ],
   "source": [
    "#tfidf vectorizer\n",
    "tfidf = TfidfVectorizer()\n",
    "X_train_q=tfidf.fit_transform(X_train_ques)\n",
    "X_test_q=tfidf.transform(X_test_ques)\n",
    "\n",
    "#adding tfidf features to our train and test data using hstack\n",
    "X_tfidf_train = hstack((X_train.values,X_train_q))\n",
    "X_tfidf_test= hstack((X_test.values,X_test_q))\n",
    "print(X_train.shape)\n",
    "print(X_test.shape)"
   ]
  },
  {
   "cell_type": "code",
   "execution_count": 19,
   "metadata": {
    "colab": {
     "base_uri": "https://localhost:8080/",
     "height": 89
    },
    "colab_type": "code",
    "id": "0oDV15LJtASY",
    "outputId": "8d5732fa-a1a1-4d58-8163-ed495e6b6c21"
   },
   "outputs": [
    {
     "name": "stdout",
     "output_type": "stream",
     "text": [
      "---------- Distribution of output variable in train data ----------\n",
      "Class 0:  0.6296541026066862 Class 1:  0.37034589739331386\n",
      "---------- Distribution of output variable in train data ----------\n",
      "Class 0:  0.3665190828365777 Class 1:  0.3665190828365777\n"
     ]
    }
   ],
   "source": [
    "from collections import Counter\n",
    "print(\"-\"*10, \"Distribution of output variable in train data\", \"-\"*10)\n",
    "train_distr = Counter(y_train)\n",
    "train_len = len(y_train)\n",
    "print(\"Class 0: \",int(train_distr[0])/train_len,\"Class 1: \", int(train_distr[1])/train_len)\n",
    "print(\"-\"*10, \"Distribution of output variable in train data\", \"-\"*10)\n",
    "test_distr = Counter(y_test)\n",
    "test_len = len(y_test)\n",
    "print(\"Class 0: \",int(test_distr[1])/test_len, \"Class 1: \",int(test_distr[1])/test_len)"
   ]
  },
  {
   "cell_type": "markdown",
   "metadata": {
    "colab_type": "text",
    "id": "tcTzcFMzvcaT"
   },
   "source": [
    "## plot function"
   ]
  },
  {
   "cell_type": "code",
   "execution_count": 0,
   "metadata": {
    "colab": {},
    "colab_type": "code",
    "id": "XfxcPT6jtASg"
   },
   "outputs": [],
   "source": [
    "# This function plots the confusion matrices given y_i, y_i_hat.\n",
    "def plot_confusion_matrix(test_y, predict_y):\n",
    "    C = confusion_matrix(test_y, predict_y)\n",
    "    # C = 9,9 matrix, each cell (i,j) represents number of points of class i are predicted class j\n",
    "    \n",
    "    A =(((C.T)/(C.sum(axis=1))).T)\n",
    "\n",
    "    B =(C/C.sum(axis=0))\n",
    "   \n",
    "    plt.figure(figsize=(20,4))\n",
    "    \n",
    "    labels = [1,2]\n",
    "    # representing A in heatmap format\n",
    "    cmap=sns.light_palette(\"blue\")\n",
    "    plt.subplot(1, 3, 1)\n",
    "    sns.heatmap(C, annot=True, cmap=cmap, fmt=\".3f\", xticklabels=labels, yticklabels=labels)\n",
    "    plt.xlabel('Predicted Class')\n",
    "    plt.ylabel('Original Class')\n",
    "    plt.title(\"Confusion matrix\")\n",
    "    \n",
    "    plt.subplot(1, 3, 2)\n",
    "    sns.heatmap(B, annot=True, cmap=cmap, fmt=\".3f\", xticklabels=labels, yticklabels=labels)\n",
    "    plt.xlabel('Predicted Class')\n",
    "    plt.ylabel('Original Class')\n",
    "    plt.title(\"Precision matrix\")\n",
    "    \n",
    "    plt.subplot(1, 3, 3)\n",
    "    # representing B in heatmap format\n",
    "    sns.heatmap(A, annot=True, cmap=cmap, fmt=\".3f\", xticklabels=labels, yticklabels=labels)\n",
    "    plt.xlabel('Predicted Class')\n",
    "    plt.ylabel('Original Class')\n",
    "    plt.title(\"Recall matrix\")\n",
    "    \n",
    "    plt.show()"
   ]
  },
  {
   "cell_type": "markdown",
   "metadata": {
    "colab_type": "text",
    "id": "VkioVdMY3dUf"
   },
   "source": [
    "# Applying Models"
   ]
  },
  {
   "cell_type": "markdown",
   "metadata": {
    "colab_type": "text",
    "id": "_r05-kq2HyAR"
   },
   "source": [
    "## XGBOOST with Hyperparameter tuning on tf-idf Avgw2v\n"
   ]
  },
  {
   "cell_type": "code",
   "execution_count": null,
   "metadata": {
    "colab": {},
    "colab_type": "code",
    "id": "UNzlZzKzHt8T"
   },
   "outputs": [],
   "source": [
    "#cross validation using randomsearch\n",
    "\n",
    "from sklearn.model_selection import RandomizedSearchCV\n",
    "params = {\"max_depth\":[1,5,10,50,100],\n",
    "              \"n_estimators\":[x for x in range(0,501,50)]}\n",
    "model = xgb.XGBClassifier(objective='binary:logistic', eval_metric='logloss')\n",
    "xgb_model = RandomizedSearchCV(model, param_distributions=params,n_iter=20,scoring='neg_log_loss',cv=3)\n",
    "xgb_model.fit(X_wtfidf_train,y_train)"
   ]
  },
  {
   "cell_type": "code",
   "execution_count": null,
   "metadata": {
    "colab": {},
    "colab_type": "code",
    "id": "ftK9grn9Wx9Q",
    "scrolled": true
   },
   "outputs": [],
   "source": [
    "#to get best hyperparameters\n",
    "print(\"Model Score = \",xgb_model.best_score_)\n",
    "print(\"Best Params = \",xgb_model.best_params_)"
   ]
  },
  {
   "cell_type": "code",
   "execution_count": null,
   "metadata": {
    "colab": {},
    "colab_type": "code",
    "id": "9U367-xetAS7"
   },
   "outputs": [],
   "source": [
    "best_depth = 5\n",
    "best_estimators = 100\n",
    "clf = xgb.XGBClassifier(max_depth=best_depth,objective='binary:logistic',n_estimators=best_estimators,n_jobs=-1)\n",
    "clf.fit(X_wtfidf_train, y_train)"
   ]
  },
  {
   "cell_type": "code",
   "execution_count": 0,
   "metadata": {
    "colab": {},
    "colab_type": "code",
    "id": "RQApazz5XoOF"
   },
   "outputs": [],
   "source": [
    "#https://chrisalbon.com/machine_learning/naive_bayes/calibrate_predicted_probabilities/\n",
    "#https://github.com/abhikumar22/Quora-Question-Pair-Similarity/blob/master/5.Extensions.ipynb\n",
    "cal_clf = CalibratedClassifierCV(clf, method=\"sigmoid\")\n",
    "cal_clf.fit(X_wtfidf_train, y_train)\n",
    "predict_y = cal_clf.predict_proba(X_wtfidf_train)\n",
    "\n",
    "print(\"Log loss [Train] : \",log_loss(y_train, predict_y,  eps=1e-15))\n",
    "predict_y = cal_clf.predict_proba(X_test)\n",
    "print(\"Log loss [Test] : \",log_loss(y_test, predict_y,  eps=1e-15))\n",
    "predicted_y =np.argmax(predict_y,axis=1)\n",
    "plot_confusion_matrix(y_test, predicted_y)"
   ]
  },
  {
   "cell_type": "markdown",
   "metadata": {
    "colab_type": "text",
    "id": "UStQJ5F_tASk"
   },
   "source": [
    "## Building a random model (Finding worst-case log-loss)"
   ]
  },
  {
   "cell_type": "code",
   "execution_count": 21,
   "metadata": {
    "colab": {
     "base_uri": "https://localhost:8080/",
     "height": 333
    },
    "colab_type": "code",
    "id": "qwMDqcU7tASl",
    "outputId": "59c251d6-92e3-413a-baa3-2caa9ba581ee"
   },
   "outputs": [
    {
     "name": "stdout",
     "output_type": "stream",
     "text": [
      "Log loss on Test Data using Random Model 0.8849935238604291\n"
     ]
    },
    {
     "data": {
      "image/png": "[encoded data removed]",
      "text/plain": [
       "<Figure size 1440x288 with 6 Axes>"
      ]
     },
     "metadata": {
      "tags": []
     },
     "output_type": "display_data"
    }
   ],
   "source": [
    "# we need to generate 9 numbers and the sum of numbers should be 1\n",
    "# one solution is to genarate 9 numbers and divide each of the numbers by their sum\n",
    "# ref: https://stackoverflow.com/a/18662466/4084039\n",
    "# we create a output array that has exactly same size as the CV data\n",
    "import numpy as np\n",
    "import matplotlib.pyplot as plt\n",
    "predicted_y = np.zeros((test_len,2))\n",
    "for i in range(test_len):\n",
    "    rand_probs = np.random.rand(1,2)\n",
    "    predicted_y[i] = ((rand_probs/sum(sum(rand_probs)))[0])\n",
    "print(\"Log loss on Test Data using Random Model\",log_loss(y_test, predicted_y, eps=1e-15))\n",
    "\n",
    "predicted_y =np.argmax(predicted_y, axis=1)\n",
    "plot_confusion_matrix(y_test, predicted_y)"
   ]
  },
  {
   "cell_type": "markdown",
   "metadata": {
    "colab_type": "text",
    "id": "PDNA68-Svjwf"
   },
   "source": [
    "Observations:\n",
    "from the above execution it is clear that max value of log loss can be 0.88 \n",
    "so our models need to have significantly less log loss than 0.88"
   ]
  },
  {
   "cell_type": "markdown",
   "metadata": {
    "colab_type": "text",
    "id": "YgY29g_qtASq"
   },
   "source": [
    "## Logistic Regression with hyperparameter tuning"
   ]
  },
  {
   "cell_type": "code",
   "execution_count": 22,
   "metadata": {
    "colab": {
     "base_uri": "https://localhost:8080/",
     "height": 773
    },
    "colab_type": "code",
    "id": "Wb2tOE3GtASr",
    "outputId": "22259498-b783-4fa6-a71b-7718076834d6"
   },
   "outputs": [
    {
     "name": "stdout",
     "output_type": "stream",
     "text": [
      "For values of alpha =  1e-05 The log loss is: 0.3978305344704581\n",
      "For values of alpha =  0.0001 The log loss is: 0.392153959474439\n",
      "For values of alpha =  0.001 The log loss is: 0.4204015148028563\n",
      "For values of alpha =  0.01 The log loss is: 0.44286997289466357\n",
      "For values of alpha =  0.1 The log loss is: 0.45908766610182566\n",
      "For values of alpha =  1 The log loss is: 0.4926164311026623\n",
      "For values of alpha =  10 The log loss is: 0.5448700347042517\n"
     ]
    },
    {
     "data": {
      "image/png": "[encoded data removed]",
      "text/plain": [
       "<Figure size 432x288 with 1 Axes>"
      ]
     },
     "metadata": {
      "tags": []
     },
     "output_type": "display_data"
    },
    {
     "name": "stdout",
     "output_type": "stream",
     "text": [
      "For values of best alpha =  0.0001 The train log loss is: 0.39166392993060906\n",
      "For values of best alpha =  0.0001 The test log loss is: 0.392153959474439\n",
      "Total number of data points : 121287\n"
     ]
    },
    {
     "data": {
      "image/png": "[encoded data removed]",
      "text/plain": [
       "<Figure size 1440x288 with 6 Axes>"
      ]
     },
     "metadata": {
      "tags": []
     },
     "output_type": "display_data"
    }
   ],
   "source": [
    "alpha = [10 ** x for x in range(-5, 2)] # hyperparam for SGD classifier.\n",
    "\n",
    "log_error_array=[]\n",
    "for i in alpha:\n",
    "    clf = SGDClassifier(alpha=i, penalty='l2', loss='log', random_state=42)\n",
    "    clf.fit(X_tfidf_train, y_train)\n",
    "    sig_clf = CalibratedClassifierCV(clf, method=\"sigmoid\")\n",
    "    sig_clf.fit(X_tfidf_train, y_train)\n",
    "    predict_y = sig_clf.predict_proba(X_tfidf_test)\n",
    "    log_error_array.append(log_loss(y_test, predict_y, labels=clf.classes_, eps=1e-15))\n",
    "    print('For values of alpha = ', i, \"The log loss is:\",log_loss(y_test, predict_y, labels=clf.classes_, eps=1e-15))\n",
    "\n",
    "fig, ax = plt.subplots()\n",
    "ax.plot(alpha, log_error_array,c='g')\n",
    "for i, txt in enumerate(np.round(log_error_array,3)):\n",
    "    ax.annotate((alpha[i],np.round(txt,3)), (alpha[i],log_error_array[i]))\n",
    "plt.grid()\n",
    "plt.title(\"Cross Validation Error for each alpha\")\n",
    "plt.xlabel(\"Alpha i's\")\n",
    "plt.ylabel(\"Error measure\")\n",
    "plt.show()\n",
    "\n",
    "\n",
    "best_alpha = np.argmin(log_error_array)\n",
    "clf = SGDClassifier(alpha=alpha[best_alpha], penalty='l2', loss='log', random_state=42)\n",
    "clf.fit(X_tfidf_train, y_train)\n",
    "sig_clf = CalibratedClassifierCV(clf, method=\"sigmoid\")\n",
    "sig_clf.fit(X_tfidf_train, y_train)\n",
    "\n",
    "predict_y = sig_clf.predict_proba(X_tfidf_train)\n",
    "print('For values of best alpha = ', alpha[best_alpha], \"The train log loss is:\",log_loss(y_train, predict_y, labels=clf.classes_, eps=1e-15))\n",
    "predict_y = sig_clf.predict_proba(X_tfidf_test)\n",
    "print('For values of best alpha = ', alpha[best_alpha], \"The test log loss is:\",log_loss(y_test, predict_y, labels=clf.classes_, eps=1e-15))\n",
    "predicted_y =np.argmax(predict_y,axis=1)\n",
    "print(\"Total number of data points :\", len(predicted_y))\n",
    "plot_confusion_matrix(y_test, predicted_y)"
   ]
  },
  {
   "cell_type": "markdown",
   "metadata": {
    "colab_type": "text",
    "id": "WJGSsbIZzNNv"
   },
   "source": [
    "Observations:\n",
    "After applying Logistic Regression with hyperparameter tuning we have found that best alpha value is 0.0001 and test loss is 0.392 which is less than log loss of random model but it is near to log loss value of random model so we can say that model is not performing that well \n",
    "And train and test loss are almost same we can say that our model is not overfitting  but it may be underfitting"
   ]
  },
  {
   "cell_type": "markdown",
   "metadata": {
    "colab_type": "text",
    "id": "ouQSEnr3tASy"
   },
   "source": [
    "## Linear SVM with hyperparameter tuning"
   ]
  },
  {
   "cell_type": "code",
   "execution_count": 26,
   "metadata": {
    "colab": {
     "base_uri": "https://localhost:8080/",
     "height": 773
    },
    "colab_type": "code",
    "id": "AOFfZ5PLtAS0",
    "outputId": "be35fe44-7533-4291-b623-3a63454f72b9"
   },
   "outputs": [
    {
     "name": "stdout",
     "output_type": "stream",
     "text": [
      "For values of alpha =  1e-05 The log loss is: 0.4208379449437567\n",
      "For values of alpha =  0.0001 The log loss is: 0.43416261866928535\n",
      "For values of alpha =  0.001 The log loss is: 0.4584949724917893\n",
      "For values of alpha =  0.01 The log loss is: 0.507502478793165\n",
      "For values of alpha =  0.1 The log loss is: 0.4949522896309145\n",
      "For values of alpha =  1 The log loss is: 0.5790224258771397\n",
      "For values of alpha =  10 The log loss is: 0.6216484119939985\n"
     ]
    },
    {
     "data": {
      "image/png": "[encoded data removed]",
      "text/plain": [
       "<Figure size 432x288 with 1 Axes>"
      ]
     },
     "metadata": {
      "tags": []
     },
     "output_type": "display_data"
    },
    {
     "name": "stdout",
     "output_type": "stream",
     "text": [
      "For values of best alpha =  1e-05 The train log loss is: 0.41764871102458306\n",
      "For values of best alpha =  1e-05 The test log loss is: 0.4208379449437567\n",
      "Total number of data points : 121287\n"
     ]
    },
    {
     "data": {
      "image/png": "[encoded data removed]",
      "text/plain": [
       "<Figure size 1440x288 with 6 Axes>"
      ]
     },
     "metadata": {
      "tags": []
     },
     "output_type": "display_data"
    }
   ],
   "source": [
    "#parameters:- penality=l1,loss=hinge\n",
    "alpha = [10 ** x for x in range(-5, 2)] \n",
    "log_error_array=[]\n",
    "for i in alpha:\n",
    "    clf = SGDClassifier(alpha=i, penalty='l1', loss='hinge', random_state=42)\n",
    "    clf.fit(X_tfidf_train, y_train)\n",
    "    #https://machinelearningmastery.com/calibrated-classification-model-in-scikit-learn/\n",
    "    sig_clf = CalibratedClassifierCV(clf, method=\"sigmoid\")\n",
    "    sig_clf.fit(X_tfidf_train, y_train)\n",
    "    predict_y = sig_clf.predict_proba(X_tfidf_test)\n",
    "    log_error_array.append(log_loss(y_test, predict_y, labels=clf.classes_, eps=1e-15))\n",
    "    print('For values of alpha = ', i, \"The log loss is:\",log_loss(y_test, predict_y, labels=clf.classes_, eps=1e-15))\n",
    "\n",
    "fig, ax = plt.subplots()\n",
    "ax.plot(alpha, log_error_array,c='g')\n",
    "for i, txt in enumerate(np.round(log_error_array,3)):\n",
    "    ax.annotate((alpha[i],np.round(txt,3)), (alpha[i],log_error_array[i]))\n",
    "plt.grid()\n",
    "plt.title(\"Cross Validation Error for each alpha\")\n",
    "plt.xlabel(\"Alpha i's\")\n",
    "plt.ylabel(\"Error measure\")\n",
    "plt.show()\n",
    "\n",
    "\n",
    "best_alpha = np.argmin(log_error_array)\n",
    "clf = SGDClassifier(alpha=alpha[best_alpha], penalty='l1', loss='hinge', random_state=42)\n",
    "clf.fit(X_tfidf_train, y_train)\n",
    "sig_clf = CalibratedClassifierCV(clf, method=\"sigmoid\")\n",
    "sig_clf.fit(X_tfidf_train, y_train)\n",
    "\n",
    "predict_y = sig_clf.predict_proba(X_tfidf_train)\n",
    "print('For values of best alpha = ', alpha[best_alpha], \"The train log loss is:\",log_loss(y_train, predict_y, labels=clf.classes_, eps=1e-15))\n",
    "predict_y = sig_clf.predict_proba(X_tfidf_test)\n",
    "print('For values of best alpha = ', alpha[best_alpha], \"The test log loss is:\",log_loss(y_test, predict_y, labels=clf.classes_, eps=1e-15))\n",
    "predicted_y =np.argmax(predict_y,axis=1)\n",
    "print(\"Total number of data points :\", len(predicted_y))\n",
    "plot_confusion_matrix(y_test, predicted_y)"
   ]
  },
  {
   "cell_type": "markdown",
   "metadata": {
    "colab_type": "text",
    "id": "DLGC9_X10znP"
   },
   "source": [
    "Observations:\n",
    "After applying Linear SVM  with hyperparameter tuning we have found that best alpha value is 0.00001 and test loss is 0.42 which is less than log loss of random model \n",
    "And train and test loss are almost same we can say that our model is not overfitting  but it may be underfitting\n",
    "\n",
    "Linear SVM is performing well than Logistic Regression"
   ]
  },
  {
   "cell_type": "markdown",
   "metadata": {
    "colab_type": "text",
    "id": "ym1o33l02ixE"
   },
   "source": [
    "# Summary"
   ]
  },
  {
   "cell_type": "code",
   "execution_count": 27,
   "metadata": {
    "colab": {
     "base_uri": "https://localhost:8080/",
     "height": 161
    },
    "colab_type": "code",
    "id": "PgBFzmaga7Qn",
    "outputId": "8abbaa3e-b13a-487c-ef19-a46a7051869b"
   },
   "outputs": [
    {
     "name": "stdout",
     "output_type": "stream",
     "text": [
      "+---------------------+--------------------------+------------+\n",
      "|        model        |      Hyperparameter      |  Log loss  |\n",
      "+---------------------+--------------------------+------------+\n",
      "|        Random       |            0             |    0.88    |\n",
      "| Logistic Regression |          0.0001          |   0.392    |\n",
      "|      Linear SVM     |          1e-05           |    0.42    |\n",
      "|       XGBoost       | depth=5,n_estimators=100 | 0.08*10^-3 |\n",
      "+---------------------+--------------------------+------------+\n"
     ]
    }
   ],
   "source": [
    "#http://zetcode.com/python/prettytable/\n",
    "from prettytable import PrettyTable\n",
    "x = PrettyTable()\n",
    "x.field_names = [\"model\", \"Hyperparameter\", \"Log loss\"]\n",
    "x.add_row([\"Random(tfidf)\", 0, 0.88])\n",
    "x.add_row([\"Logistic Regression(tfidf)\", 0.0001, 0.392])\n",
    "x.add_row([\"Linear SVM(tfidf)\", 0.00001, 0.42])\n",
    "x.add_row([\"XGBoost(avgw2v-tfidf)\", \"depth=5,n_estimators=100\", \"0.08*10^-3\"])\n",
    "print(x)"
   ]
  },
  {
   "cell_type": "markdown",
   "metadata": {
    "colab_type": "text",
    "id": "t1IUbZaz8J4a"
   },
   "source": [
    "# Process:"
   ]
  },
  {
   "cell_type": "markdown",
   "metadata": {
    "colab_type": "text",
    "id": "w0aS737mgogj"
   },
   "source": [
    "1.   imported the necessary libraries\n",
    "2.   imported 3 files which contains simple features and advanced features and questions\n",
    "3.   split the data into train and test and then seperated questions from the data\n",
    "1.   vectorized them using tfidf\n",
    "2.   combined the vectors into respective train and test sets \n",
    "1.   applyed XGBoost with hyperparameter Tuning \n",
    "1.   vectorized them using tfidf and then calculated avg-w2v tf-idf of the questions\n",
    "1.   combined the vectors into respective train and test sets \n",
    "2.   Built a  random model which predicts y labels randomly for getting maximum possible log-loss\n",
    "1.   did fine tuning using own loop applyed Logistic Regression on tf-idf features set and found best parameters and found the model log-loss value\n",
    "2.   Similarly did finetuning and applied linear SVM on tf-idf features set and got the log-loss value \n",
    "1.   lastly summarized the results using pretty table\n",
    "\n",
    "\n",
    "\n",
    "\n",
    "\n",
    "\n",
    "\n"
   ]
  }
 ],
 "metadata": {
  "accelerator": "GPU",
  "colab": {
   "collapsed_sections": [],
   "name": "saireddy3462@gmail.com_quora.ipynb",
   "provenance": [],
   "toc_visible": true
  },
  "kernelspec": {
   "display_name": "Python 3",
   "language": "python",
   "name": "python3"
  },
  "language_info": {
   "codemirror_mode": {
    "name": "ipython",
    "version": 3
   },
   "file_extension": ".py",
   "mimetype": "text/x-python",
   "name": "python",
   "nbconvert_exporter": "python",
   "pygments_lexer": "ipython3",
   "version": "3.7.3"
  }
 },
 "nbformat": 4,
 "nbformat_minor": 1
}
